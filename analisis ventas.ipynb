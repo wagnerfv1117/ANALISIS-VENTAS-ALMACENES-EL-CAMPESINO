{
 "cells": [
  {
   "cell_type": "markdown",
   "metadata": {},
   "source": [
    "## Informe análisis de ventas Almacén el Campesino Palacio del Cristal de Montería - Córdoba\n"
   ]
  },
  {
   "cell_type": "markdown",
   "metadata": {},
   "source": [
    "<p style=\"text-align: justify;\">En este informe, se mostrará un analisis cuantitativo de la ventas que se han realizado en el Almacén el Campesino Palacio del Cristal de Montería, Cordoba; para el mes de agosto y lo corrido del mes de septiembre hasta el día 21, el cual puede ser configurado.</p>\n",
    "\n",
    "<p style=\"text-align: justify;\">En la carpeta \"Datos\" del proyecto, se alojan los dos archivos, que pueden ser analizados como ejemplo, se proyecta la venta del mes de agosto.</p>\n",
    "\n",
    "<p style=\"text-align: justify;\">Se documenta el informe, como se ha escrito en el documento académico, en base a la solicitud de  datos del registro de ventas al administrador de la empresa, los cuales están en bruto y se transformarán, para que se elaboren los respectivos patrones pertientes para una toma de decisiones desde el ambito estratégico.</p>\n",
    "\n",
    "<p style=\"text-align: justify;\">El algoritmo, fue desarrollado en el lenguaje de programación Python, basado en el libro de (Roldán, 2022)</p>\n",
    "\n",
    "*Nota: Para acceder a la página oficial del lenguaje de programación es: https://www.python.org/*"
   ]
  },
  {
   "cell_type": "markdown",
   "metadata": {},
   "source": [
    "<p style=\"text-align: justify;\">1- En las siguientes lineas de código, se procede a importar las librerías necesarias, para ordenar la data, que se encuentra en bruto (formato.json), mostrandose el procedimiento en las siguientes lineas de código con sus respectivos comentarios:</p>"
   ]
  },
  {
   "cell_type": "code",
   "execution_count": 19,
   "metadata": {},
   "outputs": [],
   "source": [
    "import numpy as np # Librería de Python, para gestionar grandes volumenes de datos. - Mayor información en: https://numpy.org/\n",
    "import pandas as pd # Librería de Python, para organizar, tabular y estructurar datos de diferentes tipos. - Mayor información en: https://pandas.pydata.org/\n",
    "import matplotlib.pyplot as plt # Librería de Python, para crear gráficos; pyplot, es un módulo de Matplotlib que propone varias funciones sencillas para añadir elementos tales como líneas, imágenes o textos a los ejes de un gráfico. - Mayor información en: https://matplotlib.org/"
   ]
  },
  {
   "cell_type": "markdown",
   "metadata": {},
   "source": [
    " <p style=\"text-align: justify;\">Generalmente, una librería, según (Gómez, 2021) es un conjunto de archivos que se utilizan para desarrollar software, suele estar compuesta de código y datos, y su fin es ser utilizada por otros programas de forma totalmente autónoma. Simple y llanamente, es un archivo importable, es decir, traer un modulo a nuestro programa y de esta forma, la tarea será más fácil.</p>\n"
   ]
  },
  {
   "cell_type": "markdown",
   "metadata": {},
   "source": [
    "\n",
    "\n",
    "<p style=\"text-align: justify;\">2- Se procede con ejecutar la función, para que pueda leer los datos que se van analizar, lo cual se utiliza el modulo específico para leer archivos .json, llamado \"pd.read_json\" de la librería Pandas:</p>"
   ]
  },
  {
   "cell_type": "code",
   "execution_count": 20,
   "metadata": {},
   "outputs": [
    {
     "name": "stdout",
     "output_type": "stream",
     "text": [
      "        FECHA     MONTO\n",
      "0  08/01/2022   7560325\n",
      "1  08/02/2022  10967800\n",
      "2  08/03/2022   9000500\n",
      "3  08/04/2022   5000300\n",
      "4  08/05/2022   4700000\n",
      "5  08/06/2022   8228610\n",
      "6  08/07/2022    340000\n",
      "7  08/08/2022    201000\n",
      "8  08/09/2022   5678340\n",
      "9  08/10/2022   3243789\n"
     ]
    }
   ],
   "source": [
    "\n",
    "df = pd.read_json('Datos/agosto.json') # Instrucción que se le da a la computador por medio de Pandas, para seleccionar y recuperar la respectiva tabla de la Base de Datos a analizar.\n",
    "\n",
    "print(df.head(10)) #Función para que muestre los primeros 10 registros, estos pueden ser ajustables, se pueden leer desde el primero \"head\" o desde el último \"tail\"."
   ]
  },
  {
   "cell_type": "markdown",
   "metadata": {},
   "source": [
    "<p style=\"text-align: justify;\">3- Luego de que la librería (Pandas) haya hecho el trabajo de tabular y ordenar los datos, se le da una instrucción a la computadora, para exporte esos datos ordenados a un archivo de Microsoft Excel (.xlsx), y los guarde en la carpeta \"Outputs\" del proyecto; mostrandose el procedimiento en las siguientes lineas de código con sus respectivos comentarios: </p>"
   ]
  },
  {
   "cell_type": "code",
   "execution_count": 21,
   "metadata": {},
   "outputs": [
    {
     "name": "stdout",
     "output_type": "stream",
     "text": [
      "¡Exportación completada!\n"
     ]
    }
   ],
   "source": [
    "df.to_excel('Outputs/agosto.xlsx') # Función util de la librería Pandas, con la que se puede guardar los datos de la tabla ordenada, en formato Microsoft Excel.\n",
    "print(\"¡Exportación completada!\")# Mensaje de información, donde se le informe al usuario o desarrollador que ejecute este algoritmo, que la exportación del archivo Excel, ha sido completada. "
   ]
  },
  {
   "cell_type": "markdown",
   "metadata": {},
   "source": [
    "<p style=\"text-align: justify;\">4- Después de mostrar los datos de salida y exportar una copia de la tabla a formato Microsoft Excel, se procede con programar una función con la librería de creación de imagenes (Matplotlib) para que se grafiquen los datos recolectados; mostrandose el procedimiento en las siguientes lineas de código con sus respectivos comentarios:</p>"
   ]
  },
  {
   "cell_type": "code",
   "execution_count": 22,
   "metadata": {},
   "outputs": [
    {
     "name": "stdout",
     "output_type": "stream",
     "text": [
      "Se muestran los datos de una forma graficada tipo barra\n"
     ]
    },
    {
     "data": {
      "text/plain": [
       "Text(0.5, 1.0, 'ANALISIS DE VENTAS ALMACEN EL CAMPESINO PALACIO DEL CRISTAL MES 08/2022')"
      ]
     },
     "execution_count": 22,
     "metadata": {},
     "output_type": "execute_result"
    },
    {
     "data": {
      "image/png": "[encoded data removed]",
      "text/plain": [
       "<Figure size 576x576 with 1 Axes>"
      ]
     },
     "metadata": {
      "needs_background": "light"
     },
     "output_type": "display_data"
    }
   ],
   "source": [
    "print(\"Se muestran los datos de una forma graficada tipo barra\") # Mensaje de alerta o información.\n",
    "df.groupby('FECHA')['MONTO'].sum().plot(kind='barh',legend='Reverse', color='green') # Se procede a realizar un agrupamiento de los datos que quiero solicitar, y verificar, así como asignarle color a la gráfica.\n",
    "plt.xlabel('Monto') # Aquí se pone un titulo en el eje X\n",
    "plt.ylabel('Fecha') # Aquí se pone un titulo en el eje Y\n",
    "plt.rcParams[\"figure.figsize\"] = (8, 8)# Establcecer el tamaño de la imagen.\n",
    "plt.title('ANALISIS DE VENTAS ALMACEN EL CAMPESINO PALACIO DEL CRISTAL MES 08/2022') # Título del gráfico."
   ]
  },
  {
   "cell_type": "markdown",
   "metadata": {},
   "source": [
    "<p style=\"text-align: Justify;\">5- Referencias Bibliográficas</p>\n",
    "\n",
    "Gómez, P. (2021, 27 octubre). Qué es una librería en programación. DevCamp. Recuperado 10 de octubre de 2022, de https://devcamp.es/que-es-libreria-programacion/\n",
    "\n",
    "Roldán, M. M. R. C. /. (2022, 6 octubre). BIG DATA con PYTHON. Recolección, almacenamiento y proceso. (pp. 15-18) Rc Libros.\n"
   ]
  }
 ],
 "metadata": {
  "kernelspec": {
   "display_name": "Python 3.10.5 64-bit",
   "language": "python",
   "name": "python3"
  },
  "language_info": {
   "codemirror_mode": {
    "name": "ipython",
    "version": 3
   },
   "file_extension": ".py",
   "mimetype": "text/x-python",
   "name": "python",
   "nbconvert_exporter": "python",
   "pygments_lexer": "ipython3",
   "version": "3.10.5"
  },
  "orig_nbformat": 4,
  "vscode": {
   "interpreter": {
    "hash": "bb16339d622d833763448844aa3d62a845dc5e8ebd6d4523acfdc29f21243b06"
   }
  }
 },
 "nbformat": 4,
 "nbformat_minor": 2
}
